{
 "cells": [
  {
   "cell_type": "code",
   "execution_count": 1,
   "id": "eaa3fc86",
   "metadata": {},
   "outputs": [],
   "source": [
    "from datasets import load_dataset\n",
    "\n",
    "ds = load_dataset(\"refcocog\") # 从本地读取"
   ]
  },
  {
   "cell_type": "code",
   "execution_count": 2,
   "id": "1c13a620",
   "metadata": {},
   "outputs": [
    {
     "name": "stdout",
     "output_type": "stream",
     "text": [
      "<class 'datasets.dataset_dict.DatasetDict'>\n",
      "DatasetDict({\n",
      "    test: Dataset({\n",
      "        features: ['question_id', 'question', 'image', 'bbox', 'image_size'],\n",
      "        num_rows: 9602\n",
      "    })\n",
      "    val: Dataset({\n",
      "        features: ['question_id', 'question', 'image', 'bbox', 'image_size'],\n",
      "        num_rows: 4896\n",
      "    })\n",
      "})\n"
     ]
    }
   ],
   "source": [
    "print(type(ds))\n",
    "print(ds)"
   ]
  },
  {
   "cell_type": "code",
   "execution_count": 3,
   "id": "c9f322c4",
   "metadata": {},
   "outputs": [
    {
     "name": "stdout",
     "output_type": "stream",
     "text": [
      "9602\n"
     ]
    }
   ],
   "source": [
    "print(len(ds['test']))"
   ]
  },
  {
   "cell_type": "code",
   "execution_count": 4,
   "id": "4ce75557",
   "metadata": {},
   "outputs": [
    {
     "name": "stdout",
     "output_type": "stream",
     "text": [
      "question_id <class 'int'>\n",
      "question <class 'str'>\n",
      "image <class 'PIL.JpegImagePlugin.JpegImageFile'>\n",
      "bbox <class 'str'>\n",
      "image_size <class 'list'>\n"
     ]
    }
   ],
   "source": [
    "# 查看每个数据的格式\n",
    "for key,value in ds['test'][0].items():\n",
    "    print(key,type(value))"
   ]
  },
  {
   "cell_type": "code",
   "execution_count": 6,
   "id": "ef4dbf0a",
   "metadata": {},
   "outputs": [
    {
     "name": "stderr",
     "output_type": "stream",
     "text": [
      "Processing items: 100%|██████████| 14498/14498 [00:44<00:00, 329.10it/s]"
     ]
    },
    {
     "name": "stdout",
     "output_type": "stream",
     "text": [
      "Data has been saved to data_test.jsonl and data_val.jsonl\n"
     ]
    },
    {
     "name": "stderr",
     "output_type": "stream",
     "text": [
      "\n"
     ]
    }
   ],
   "source": [
    "import os\n",
    "from PIL import Image\n",
    "import json\n",
    "from tqdm import tqdm\n",
    "\n",
    "# 计算总的数据量\n",
    "total_items = sum(len(ds[data_key]) for data_key in ['test', 'val'])\n",
    "\n",
    "# 初始化进度条(可自控制更新的进度条)\n",
    "save_dir = \"refcocog\"\n",
    "with tqdm(total=total_items, desc=\"Processing items\") as pbar:\n",
    "    for dataset_key in ['test','val']:\n",
    "        output_file = f\"data_{dataset_key}.jsonl\"\n",
    "        prefix = \"test-\" if dataset_key == 'test' else \"val-\"\n",
    "        os.makedirs(os.path.join(save_dir,dataset_key),exist_ok = True)\n",
    "\n",
    "        with open(os.path.join(save_dir,output_file),\"w\",encoding = 'utf-8') as f:\n",
    "            for item in ds[dataset_key]:\n",
    "                img_name = f\"{prefix}{item['question_id']}.jpeg\"\n",
    "                img_save_path = os.path.join(save_dir,dataset_key,img_name)\n",
    "                # item['image'].save(img_save_path,format = \"JPEG\")\n",
    "\n",
    "                new_data_format = [\n",
    "                    {\n",
    "                        \"role\": \"user\",\n",
    "                        \"content\":[\n",
    "                            {\n",
    "                                \"type\": \"image\",\n",
    "                                \"image\": f\"{img_save_path}\"\n",
    "                            },\n",
    "                            {\"type\": \"text\",\"text\":f\"Please provide the bounding box for the following description: {item['question']}\"}\n",
    "                        ]\n",
    "                    },\n",
    "                    {\n",
    "                        \"role\": \"assistant\",\n",
    "                        \"content\": f'<|object_ref_start|>{item[\"question\"]}<|object_ref_end|> is located at <|box_start|>{item[\"bbox\"]}<|box_end|>'\n",
    "                    }\n",
    "                ]\n",
    "                f.write(json.dumps(new_data_format,ensure_ascii = False) + \"\\n\")\n",
    "                pbar.update(1)\n",
    "print(\"Data has been saved to data_test.jsonl and data_val.jsonl\")"
   ]
  },
  {
   "cell_type": "code",
   "execution_count": 9,
   "id": "aee69e48",
   "metadata": {},
   "outputs": [],
   "source": [
    "import json\n",
    "load_data_test = []\n",
    "load_data_val = []\n",
    "with open(\"refcocog/data_test.jsonl\",\"r\",encoding = 'utf-8') as f:\n",
    "    for line in f:\n",
    "        load_data_test.append(json.loads(line))\n",
    "with open(\"refcocog/data_val.jsonl\",\"r\",encoding = 'utf-8') as f:\n",
    "    for line in f:\n",
    "        load_data_val.append(json.loads(line))"
   ]
  },
  {
   "cell_type": "code",
   "execution_count": 10,
   "id": "34c0732f",
   "metadata": {},
   "outputs": [
    {
     "name": "stdout",
     "output_type": "stream",
     "text": [
      "<class 'list'> <class 'list'>\n",
      "[{'role': 'user', 'content': [{'type': 'image', 'image': 'refcocog/val/val-61.jpeg'}, {'type': 'text', 'text': 'Please provide the bounding box for the following description: a bush of plant behind middle woman'}]}, {'role': 'assistant', 'content': '<|object_ref_start|>a bush of plant behind middle woman<|object_ref_end|> is located at <|box_start|>[285, 23, 424, 146]<|box_end|>'}]\n"
     ]
    }
   ],
   "source": [
    "print(type(load_data_val),type(load_data_val[0]))\n",
    "print(load_data_val[0])"
   ]
  },
  {
   "cell_type": "code",
   "execution_count": 12,
   "id": "3f6e49ad",
   "metadata": {},
   "outputs": [],
   "source": [
    "import json\n",
    "from datasets import Dataset\n",
    "\n",
    "def load_and_convert_data(file_path):\n",
    "    \"\"\"加载并转换数据\"\"\"\n",
    "    loaded_data = [] # 保存dataset描述的json列表\n",
    "    with open(file_path,\"r\",encoding = 'utf-8') as f:\n",
    "        for line in f:\n",
    "            loaded_data.append(json.loads(line))\n",
    "    \n",
    "    # 将loaded_data转换为合适的Dataset的格式\n",
    "    dataset_dicts = []\n",
    "    for item in loaded_data:\n",
    "        user_content = item[0]['content']\n",
    "        assistant_content = item[1]['content']\n",
    "\n",
    "        # 提取图像信息和文本信息\n",
    "        image_info = next((x for x in user_content if x['type'] == 'image'),None)\n",
    "        text_info = next((x for x in user_content if x['type'] == 'text'),None)\n",
    "\n",
    "        # 构建新的字典\n",
    "        dataset_dict = {\n",
    "            \"role\": \"user\",\n",
    "            \"image_path\": image_info['image'] if image_info else None,\n",
    "            \"question\": text_info['text'] if text_info else None,\n",
    "            'assistant_answer': assistant_content\n",
    "        }\n",
    "\n",
    "        dataset_dicts.append(dataset_dict)\n",
    "    return dataset_dicts\n",
    "\n",
    "# 分别加载 test 和 val 数据集\n",
    "test_data_path = 'refcocog/data_test.jsonl'\n",
    "val_data_path = 'refcocog/data_val.jsonl'\n",
    "\n",
    "test_dataset_dicts = load_and_convert_data(test_data_path)\n",
    "val_dataset_dicts = load_and_convert_data(val_data_path)"
   ]
  },
  {
   "cell_type": "code",
   "execution_count": 13,
   "id": "bf51d53f",
   "metadata": {},
   "outputs": [],
   "source": [
    "# 创建dataset对象\n",
    "test_dataset = Dataset.from_list(test_dataset_dicts)\n",
    "val_dataset = Dataset.from_list(val_dataset_dicts)"
   ]
  },
  {
   "cell_type": "code",
   "execution_count": 14,
   "id": "0a67e8bd",
   "metadata": {},
   "outputs": [
    {
     "name": "stdout",
     "output_type": "stream",
     "text": [
      "<class 'datasets.arrow_dataset.Dataset'>\n",
      "{'role': 'user', 'image_path': 'refcocog/test/test-8.jpeg', 'question': 'Please provide the bounding box for the following description: the man in yellow coat', 'assistant_answer': '<|object_ref_start|>the man in yellow coat<|object_ref_end|> is located at <|box_start|>[374, 65, 510, 266]<|box_end|>'}\n",
      "{'role': 'user', 'image_path': 'refcocog/test/test-9.jpeg', 'question': 'Please provide the bounding box for the following description: skiier in red pants', 'assistant_answer': '<|object_ref_start|>skiier in red pants<|object_ref_end|> is located at <|box_start|>[374, 65, 510, 266]<|box_end|>'}\n",
      "{'role': 'user', 'image_path': 'refcocog/test/test-10.jpeg', 'question': 'Please provide the bounding box for the following description: there is red colored truck in between the other trucks', 'assistant_answer': '<|object_ref_start|>there is red colored truck in between the other trucks<|object_ref_end|> is located at <|box_start|>[93, 83, 597, 373]<|box_end|>'}\n"
     ]
    }
   ],
   "source": [
    "print(type(test_dataset))\n",
    "print(test_dataset[0])\n",
    "print(test_dataset[1])\n",
    "print(test_dataset[2])"
   ]
  }
 ],
 "metadata": {
  "kernelspec": {
   "display_name": ".venv",
   "language": "python",
   "name": "python3"
  },
  "language_info": {
   "codemirror_mode": {
    "name": "ipython",
    "version": 3
   },
   "file_extension": ".py",
   "mimetype": "text/x-python",
   "name": "python",
   "nbconvert_exporter": "python",
   "pygments_lexer": "ipython3",
   "version": "3.11.12"
  }
 },
 "nbformat": 4,
 "nbformat_minor": 5
}
