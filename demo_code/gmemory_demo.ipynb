{
 "cells": [
  {
   "cell_type": "code",
   "execution_count": null,
   "id": "b997839a",
   "metadata": {},
   "outputs": [],
   "source": [
    "# 这个要在导入torch前设置\n",
    "import os\n",
    "os.environ['CUDA_VISIBLE_DEVICES'] = \"1,3\" # 之后"
   ]
  },
  {
   "cell_type": "code",
   "execution_count": 2,
   "id": "41170702",
   "metadata": {},
   "outputs": [],
   "source": [
    "import torch\n",
    "from torchinfo import summary\n",
    "from torch import nn\n",
    "from torch import optim\n",
    "import torchvision\n",
    "import math"
   ]
  },
  {
   "cell_type": "code",
   "execution_count": 3,
   "id": "905946e1",
   "metadata": {},
   "outputs": [
    {
     "name": "stdout",
     "output_type": "stream",
     "text": [
      "2\n"
     ]
    }
   ],
   "source": [
    "print(torch.cuda.device_count()) # 成功"
   ]
  },
  {
   "cell_type": "markdown",
   "id": "90774e5b",
   "metadata": {},
   "source": [
    "**一、估计YOLO_V1的显存**"
   ]
  },
  {
   "cell_type": "code",
   "execution_count": 2,
   "id": "51a39765",
   "metadata": {},
   "outputs": [],
   "source": [
    "device = torch.device(\"cuda:1\")"
   ]
  },
  {
   "cell_type": "code",
   "execution_count": 3,
   "id": "0f923095",
   "metadata": {},
   "outputs": [],
   "source": [
    "def get_yolov1(num_classes = 20,num_bboxes = 2):\n",
    "    \"\"\"获取yolov1模型\"\"\"\n",
    "    return nn.Sequential(\n",
    "        nn.Conv2d(3,64,kernel_size = 7,stride = 2,padding = 3),nn.ReLU(),\n",
    "        nn.MaxPool2d(2,2),                    # k = 2,s = 2的MaxPool2d层使图像分辨率减半\n",
    "        nn.Conv2d(64,192,kernel_size = 3,padding = 1),nn.ReLU(),\n",
    "        nn.MaxPool2d(2,2),\n",
    "        nn.Conv2d(192,128,1),nn.ReLU(),\n",
    "        nn.Conv2d(128,256,3,padding = 1),nn.ReLU(),\n",
    "        nn.Conv2d(256,256,1),nn.ReLU(),\n",
    "        nn.Conv2d(256,512,3,padding = 1),nn.ReLU(),\n",
    "        nn.MaxPool2d(2,2),\n",
    "        nn.Conv2d(512,256,1),nn.ReLU(),\n",
    "        nn.Conv2d(256,512,3,padding = 1),nn.ReLU(),\n",
    "        nn.Conv2d(512,256,1),nn.ReLU(),\n",
    "        nn.Conv2d(256,512,3,padding = 1),nn.ReLU(),\n",
    "        nn.Conv2d(512,256,1),nn.ReLU(),\n",
    "        nn.Conv2d(256,512,3,padding = 1),nn.ReLU(),\n",
    "        nn.Conv2d(512,256,1),nn.ReLU(),\n",
    "        nn.Conv2d(256,512,3,padding = 1),nn.ReLU(),\n",
    "        nn.Conv2d(512,512,1),nn.ReLU(),\n",
    "        nn.Conv2d(512,1024,3,padding = 1),nn.ReLU(),\n",
    "        nn.MaxPool2d(2,2),\n",
    "        nn.Conv2d(1024,512,1),nn.ReLU(),\n",
    "        nn.Conv2d(512,1024,3,padding = 1),nn.ReLU(),\n",
    "        nn.Conv2d(1024,512,1),nn.ReLU(),\n",
    "        nn.Conv2d(512,1024,3,padding = 1),nn.ReLU(),\n",
    "        nn.Conv2d(1024,1024,3,padding = 1),nn.ReLU(),\n",
    "        nn.Conv2d(1024,1024,3,stride = 2,padding = 1),nn.ReLU(),\n",
    "        nn.Conv2d(1024,1024,3,padding = 1),nn.ReLU(),\n",
    "        nn.Conv2d(1024,1024,3,padding = 1),nn.ReLU(),\n",
    "        nn.Flatten(),nn.Linear(7 * 7 * 1024,4096),nn.ReLU(),\n",
    "        nn.Linear(4096,7 * 7 * (num_bboxes * 5 + num_classes)),nn.Sigmoid()\n",
    "    )\n",
    "\n",
    "class Yolov1(nn.Module):\n",
    "    def __init__(self,num_classes = 20,num_bboxes = 2):\n",
    "        super().__init__()\n",
    "        self.B = num_bboxes\n",
    "        self.C = num_classes\n",
    "        self.layer = get_yolov1(self.C,self.B)\n",
    "        self._init_weights()\n",
    "\n",
    "    def _init_weights(self):\n",
    "        for m in self.modules():\n",
    "            if isinstance(m, nn.Conv2d):\n",
    "                n = m.kernel_size[0] * m.kernel_size[1] * m.out_channels\n",
    "                m.weight.data.normal_(0, math.sqrt(2. / n))\n",
    "                if m.bias is not None:\n",
    "                    m.bias.data.zero_()\n",
    "            elif isinstance(m, nn.BatchNorm2d):\n",
    "                m.weight.data.fill_(1)\n",
    "                m.bias.data.zero_()\n",
    "            elif isinstance(m, nn.Linear):\n",
    "                m.weight.data.normal_(0, 0.01)\n",
    "                m.bias.data.zero_()\n",
    "        \n",
    "    def forward(self,X):\n",
    "        X = self.layer(X)\n",
    "        X = X.reshape(X.shape[0],self.B * 5 + \n",
    "                      self.C,7,7)\n",
    "        return X"
   ]
  },
  {
   "cell_type": "code",
   "execution_count": 4,
   "id": "1ae6c78f",
   "metadata": {},
   "outputs": [],
   "source": [
    "model = Yolov1()"
   ]
  },
  {
   "cell_type": "code",
   "execution_count": 5,
   "id": "8fd0a0b6",
   "metadata": {},
   "outputs": [
    {
     "name": "stdout",
     "output_type": "stream",
     "text": [
      "torch.float32\n",
      "torch.float32\n",
      "torch.float32\n",
      "torch.float32\n",
      "torch.float32\n",
      "torch.float32\n",
      "torch.float32\n",
      "torch.float32\n",
      "torch.float32\n",
      "torch.float32\n",
      "torch.float32\n",
      "torch.float32\n",
      "torch.float32\n",
      "torch.float32\n",
      "torch.float32\n",
      "torch.float32\n",
      "torch.float32\n",
      "torch.float32\n",
      "torch.float32\n",
      "torch.float32\n",
      "torch.float32\n",
      "torch.float32\n",
      "torch.float32\n",
      "torch.float32\n",
      "torch.float32\n",
      "torch.float32\n"
     ]
    }
   ],
   "source": [
    "for i in range(len(model.layer)):\n",
    "    if (isinstance(model.layer[i],nn.Conv2d) or \n",
    "        isinstance(model.layer[i],nn.Linear)):\n",
    "        print(model.layer[i].weight.dtype)"
   ]
  },
  {
   "cell_type": "code",
   "execution_count": 6,
   "id": "e1ed6fbe",
   "metadata": {},
   "outputs": [
    {
     "name": "stdout",
     "output_type": "stream",
     "text": [
      "==========================================================================================\n",
      "Layer (type:depth-idx)                   Output Shape              Param #\n",
      "==========================================================================================\n",
      "Yolov1                                   [64, 30, 7, 7]            --\n",
      "├─Sequential: 1-1                        [64, 1470]                --\n",
      "│    └─Conv2d: 2-1                       [64, 64, 224, 224]        9,472\n",
      "│    └─ReLU: 2-2                         [64, 64, 224, 224]        --\n",
      "│    └─MaxPool2d: 2-3                    [64, 64, 112, 112]        --\n",
      "│    └─Conv2d: 2-4                       [64, 192, 112, 112]       110,784\n",
      "│    └─ReLU: 2-5                         [64, 192, 112, 112]       --\n",
      "│    └─MaxPool2d: 2-6                    [64, 192, 56, 56]         --\n",
      "│    └─Conv2d: 2-7                       [64, 128, 56, 56]         24,704\n",
      "│    └─ReLU: 2-8                         [64, 128, 56, 56]         --\n",
      "│    └─Conv2d: 2-9                       [64, 256, 56, 56]         295,168\n",
      "│    └─ReLU: 2-10                        [64, 256, 56, 56]         --\n",
      "│    └─Conv2d: 2-11                      [64, 256, 56, 56]         65,792\n",
      "│    └─ReLU: 2-12                        [64, 256, 56, 56]         --\n",
      "│    └─Conv2d: 2-13                      [64, 512, 56, 56]         1,180,160\n",
      "│    └─ReLU: 2-14                        [64, 512, 56, 56]         --\n",
      "│    └─MaxPool2d: 2-15                   [64, 512, 28, 28]         --\n",
      "│    └─Conv2d: 2-16                      [64, 256, 28, 28]         131,328\n",
      "│    └─ReLU: 2-17                        [64, 256, 28, 28]         --\n",
      "│    └─Conv2d: 2-18                      [64, 512, 28, 28]         1,180,160\n",
      "│    └─ReLU: 2-19                        [64, 512, 28, 28]         --\n",
      "│    └─Conv2d: 2-20                      [64, 256, 28, 28]         131,328\n",
      "│    └─ReLU: 2-21                        [64, 256, 28, 28]         --\n",
      "│    └─Conv2d: 2-22                      [64, 512, 28, 28]         1,180,160\n",
      "│    └─ReLU: 2-23                        [64, 512, 28, 28]         --\n",
      "│    └─Conv2d: 2-24                      [64, 256, 28, 28]         131,328\n",
      "│    └─ReLU: 2-25                        [64, 256, 28, 28]         --\n",
      "│    └─Conv2d: 2-26                      [64, 512, 28, 28]         1,180,160\n",
      "│    └─ReLU: 2-27                        [64, 512, 28, 28]         --\n",
      "│    └─Conv2d: 2-28                      [64, 256, 28, 28]         131,328\n",
      "│    └─ReLU: 2-29                        [64, 256, 28, 28]         --\n",
      "│    └─Conv2d: 2-30                      [64, 512, 28, 28]         1,180,160\n",
      "│    └─ReLU: 2-31                        [64, 512, 28, 28]         --\n",
      "│    └─Conv2d: 2-32                      [64, 512, 28, 28]         262,656\n",
      "│    └─ReLU: 2-33                        [64, 512, 28, 28]         --\n",
      "│    └─Conv2d: 2-34                      [64, 1024, 28, 28]        4,719,616\n",
      "│    └─ReLU: 2-35                        [64, 1024, 28, 28]        --\n",
      "│    └─MaxPool2d: 2-36                   [64, 1024, 14, 14]        --\n",
      "│    └─Conv2d: 2-37                      [64, 512, 14, 14]         524,800\n",
      "│    └─ReLU: 2-38                        [64, 512, 14, 14]         --\n",
      "│    └─Conv2d: 2-39                      [64, 1024, 14, 14]        4,719,616\n",
      "│    └─ReLU: 2-40                        [64, 1024, 14, 14]        --\n",
      "│    └─Conv2d: 2-41                      [64, 512, 14, 14]         524,800\n",
      "│    └─ReLU: 2-42                        [64, 512, 14, 14]         --\n",
      "│    └─Conv2d: 2-43                      [64, 1024, 14, 14]        4,719,616\n",
      "│    └─ReLU: 2-44                        [64, 1024, 14, 14]        --\n",
      "│    └─Conv2d: 2-45                      [64, 1024, 14, 14]        9,438,208\n",
      "│    └─ReLU: 2-46                        [64, 1024, 14, 14]        --\n",
      "│    └─Conv2d: 2-47                      [64, 1024, 7, 7]          9,438,208\n",
      "│    └─ReLU: 2-48                        [64, 1024, 7, 7]          --\n",
      "│    └─Conv2d: 2-49                      [64, 1024, 7, 7]          9,438,208\n",
      "│    └─ReLU: 2-50                        [64, 1024, 7, 7]          --\n",
      "│    └─Conv2d: 2-51                      [64, 1024, 7, 7]          9,438,208\n",
      "│    └─ReLU: 2-52                        [64, 1024, 7, 7]          --\n",
      "│    └─Flatten: 2-53                     [64, 50176]               --\n",
      "│    └─Linear: 2-54                      [64, 4096]                205,524,992\n",
      "│    └─ReLU: 2-55                        [64, 4096]                --\n",
      "│    └─Linear: 2-56                      [64, 1470]                6,022,590\n",
      "│    └─Sigmoid: 2-57                     [64, 1470]                --\n",
      "==========================================================================================\n",
      "Total params: 271,703,550\n",
      "Trainable params: 271,703,550\n",
      "Non-trainable params: 0\n",
      "Total mult-adds (Units.TERABYTES): 1.30\n",
      "==========================================================================================\n",
      "Input size (MB): 154.14\n",
      "Forward/backward pass size (MB): 7067.63\n",
      "Params size (MB): 1086.81\n",
      "Estimated Total Size (MB): 8308.59\n",
      "==========================================================================================\n"
     ]
    }
   ],
   "source": [
    "model.to(torch.device('cpu'))\n",
    "batch_size = 64\n",
    "H,W = 448,448\n",
    "input = torch.rand((batch_size,3,H,W))\n",
    "print(summary(model,input_data = input))"
   ]
  },
  {
   "cell_type": "code",
   "execution_count": 53,
   "id": "5aa5b6b3",
   "metadata": {},
   "outputs": [
    {
     "data": {
      "text/plain": [
       "Yolov1(\n",
       "  (layer): Sequential(\n",
       "    (0): Conv2d(3, 64, kernel_size=(7, 7), stride=(2, 2), padding=(3, 3))\n",
       "    (1): ReLU()\n",
       "    (2): MaxPool2d(kernel_size=2, stride=2, padding=0, dilation=1, ceil_mode=False)\n",
       "    (3): Conv2d(64, 192, kernel_size=(3, 3), stride=(1, 1), padding=(1, 1))\n",
       "    (4): ReLU()\n",
       "    (5): MaxPool2d(kernel_size=2, stride=2, padding=0, dilation=1, ceil_mode=False)\n",
       "    (6): Conv2d(192, 128, kernel_size=(1, 1), stride=(1, 1))\n",
       "    (7): ReLU()\n",
       "    (8): Conv2d(128, 256, kernel_size=(3, 3), stride=(1, 1), padding=(1, 1))\n",
       "    (9): ReLU()\n",
       "    (10): Conv2d(256, 256, kernel_size=(1, 1), stride=(1, 1))\n",
       "    (11): ReLU()\n",
       "    (12): Conv2d(256, 512, kernel_size=(3, 3), stride=(1, 1), padding=(1, 1))\n",
       "    (13): ReLU()\n",
       "    (14): MaxPool2d(kernel_size=2, stride=2, padding=0, dilation=1, ceil_mode=False)\n",
       "    (15): Conv2d(512, 256, kernel_size=(1, 1), stride=(1, 1))\n",
       "    (16): ReLU()\n",
       "    (17): Conv2d(256, 512, kernel_size=(3, 3), stride=(1, 1), padding=(1, 1))\n",
       "    (18): ReLU()\n",
       "    (19): Conv2d(512, 256, kernel_size=(1, 1), stride=(1, 1))\n",
       "    (20): ReLU()\n",
       "    (21): Conv2d(256, 512, kernel_size=(3, 3), stride=(1, 1), padding=(1, 1))\n",
       "    (22): ReLU()\n",
       "    (23): Conv2d(512, 256, kernel_size=(1, 1), stride=(1, 1))\n",
       "    (24): ReLU()\n",
       "    (25): Conv2d(256, 512, kernel_size=(3, 3), stride=(1, 1), padding=(1, 1))\n",
       "    (26): ReLU()\n",
       "    (27): Conv2d(512, 256, kernel_size=(1, 1), stride=(1, 1))\n",
       "    (28): ReLU()\n",
       "    (29): Conv2d(256, 512, kernel_size=(3, 3), stride=(1, 1), padding=(1, 1))\n",
       "    (30): ReLU()\n",
       "    (31): Conv2d(512, 512, kernel_size=(1, 1), stride=(1, 1))\n",
       "    (32): ReLU()\n",
       "    (33): Conv2d(512, 1024, kernel_size=(3, 3), stride=(1, 1), padding=(1, 1))\n",
       "    (34): ReLU()\n",
       "    (35): MaxPool2d(kernel_size=2, stride=2, padding=0, dilation=1, ceil_mode=False)\n",
       "    (36): Conv2d(1024, 512, kernel_size=(1, 1), stride=(1, 1))\n",
       "    (37): ReLU()\n",
       "    (38): Conv2d(512, 1024, kernel_size=(3, 3), stride=(1, 1), padding=(1, 1))\n",
       "    (39): ReLU()\n",
       "    (40): Conv2d(1024, 512, kernel_size=(1, 1), stride=(1, 1))\n",
       "    (41): ReLU()\n",
       "    (42): Conv2d(512, 1024, kernel_size=(3, 3), stride=(1, 1), padding=(1, 1))\n",
       "    (43): ReLU()\n",
       "    (44): Conv2d(1024, 1024, kernel_size=(3, 3), stride=(1, 1), padding=(1, 1))\n",
       "    (45): ReLU()\n",
       "    (46): Conv2d(1024, 1024, kernel_size=(3, 3), stride=(2, 2), padding=(1, 1))\n",
       "    (47): ReLU()\n",
       "    (48): Conv2d(1024, 1024, kernel_size=(3, 3), stride=(1, 1), padding=(1, 1))\n",
       "    (49): ReLU()\n",
       "    (50): Conv2d(1024, 1024, kernel_size=(3, 3), stride=(1, 1), padding=(1, 1))\n",
       "    (51): ReLU()\n",
       "    (52): Flatten(start_dim=1, end_dim=-1)\n",
       "    (53): Linear(in_features=50176, out_features=4096, bias=True)\n",
       "    (54): ReLU()\n",
       "    (55): Linear(in_features=4096, out_features=1470, bias=True)\n",
       "    (56): Sigmoid()\n",
       "  )\n",
       ")"
      ]
     },
     "execution_count": 53,
     "metadata": {},
     "output_type": "execute_result"
    }
   ],
   "source": [
    "model.to(device)"
   ]
  },
  {
   "cell_type": "markdown",
   "id": "0e678802",
   "metadata": {},
   "source": [
    "**二、估计Qwen2.5VL-3B的显存**"
   ]
  },
  {
   "cell_type": "code",
   "execution_count": 4,
   "id": "d9b449d0",
   "metadata": {},
   "outputs": [],
   "source": [
    "from qwen_vl_utils import process_vision_info\n",
    "from transformers import (\n",
    "    AutoTokenizer,\n",
    "    AutoProcessor,\n",
    "    Qwen2_5_VLForConditionalGeneration,\n",
    ")"
   ]
  },
  {
   "cell_type": "code",
   "execution_count": 5,
   "id": "6d9d9cb0",
   "metadata": {},
   "outputs": [
    {
     "name": "stderr",
     "output_type": "stream",
     "text": [
      "You have video processor config saved in `preprocessor.json` file which is deprecated. Video processor configs should be saved in their own `video_preprocessor.json` file. You can rename the file or load and save the processor back which renames it automatically. Loading from `preprocessor.json` will be removed in v5.0.\n"
     ]
    }
   ],
   "source": [
    "model_dir = \"pretrained/Qwen2.5-VL-3B-Instruct\"\n",
    "tokenizer = AutoTokenizer.from_pretrained(model_dir,use_fast = True)\n",
    "processsor = AutoProcessor.from_pretrained(model_dir,use_fast = True)"
   ]
  },
  {
   "cell_type": "code",
   "execution_count": 6,
   "id": "64b404dd",
   "metadata": {},
   "outputs": [
    {
     "data": {
      "application/vnd.jupyter.widget-view+json": {
       "model_id": "07496fa6fc5b4613bbf75dcedb2293ce",
       "version_major": 2,
       "version_minor": 0
      },
      "text/plain": [
       "Loading checkpoint shards:   0%|          | 0/2 [00:00<?, ?it/s]"
      ]
     },
     "metadata": {},
     "output_type": "display_data"
    }
   ],
   "source": [
    "\n",
    "model = Qwen2_5_VLForConditionalGeneration.from_pretrained(\n",
    "    model_dir,\n",
    "    torch_dtype = torch.bfloat16,\n",
    "    attn_implementation=\"flash_attention_2\",\n",
    "    # device_map = \"auto\"\n",
    "    device_map = 0,\n",
    ")"
   ]
  }
 ],
 "metadata": {
  "kernelspec": {
   "display_name": ".venv",
   "language": "python",
   "name": "python3"
  },
  "language_info": {
   "codemirror_mode": {
    "name": "ipython",
    "version": 3
   },
   "file_extension": ".py",
   "mimetype": "text/x-python",
   "name": "python",
   "nbconvert_exporter": "python",
   "pygments_lexer": "ipython3",
   "version": "3.11.12"
  }
 },
 "nbformat": 4,
 "nbformat_minor": 5
}
