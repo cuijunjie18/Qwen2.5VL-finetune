{
 "cells": [
  {
   "cell_type": "code",
   "execution_count": 1,
   "id": "a27bdcfe",
   "metadata": {},
   "outputs": [],
   "source": [
    "from datasets import load_dataset\n",
    "\n",
    "coco_ds = load_dataset(\"small-coco\")"
   ]
  },
  {
   "cell_type": "code",
   "execution_count": 3,
   "id": "4e384e6f",
   "metadata": {},
   "outputs": [
    {
     "name": "stdout",
     "output_type": "stream",
     "text": [
      "<class 'datasets.dataset_dict.DatasetDict'>\n",
      "DatasetDict({\n",
      "    train: Dataset({\n",
      "        features: ['image', 'caption', 'url', 'key', 'status', 'error_message', 'width', 'height', 'original_width', 'original_height', 'exif', 'sha256'],\n",
      "        num_rows: 9890\n",
      "    })\n",
      "    validation: Dataset({\n",
      "        features: ['image', 'caption', 'url', 'key', 'status', 'error_message', 'width', 'height', 'original_width', 'original_height', 'exif', 'sha256'],\n",
      "        num_rows: 9893\n",
      "    })\n",
      "})\n"
     ]
    }
   ],
   "source": [
    "print(type(coco_ds))\n",
    "print(coco_ds)"
   ]
  },
  {
   "cell_type": "code",
   "execution_count": 4,
   "id": "59aa1513",
   "metadata": {},
   "outputs": [
    {
     "name": "stdout",
     "output_type": "stream",
     "text": [
      "DatasetDict({\n",
      "    train: Dataset({\n",
      "        features: ['image', 'caption', 'url', 'key', 'status', 'error_message', 'width', 'height', 'original_width', 'original_height', 'exif', 'sha256'],\n",
      "        num_rows: 9890\n",
      "    })\n",
      "    test: Dataset({\n",
      "        features: ['image', 'caption', 'url', 'key', 'status', 'error_message', 'width', 'height', 'original_width', 'original_height', 'exif', 'sha256'],\n",
      "        num_rows: 9893\n",
      "    })\n",
      "})\n"
     ]
    }
   ],
   "source": [
    "# validation这个键名不太合适，希望改成test\n",
    "coco_ds['test'] = coco_ds.pop('validation')\n",
    "print(coco_ds)"
   ]
  },
  {
   "cell_type": "code",
   "execution_count": 6,
   "id": "1cf0887e",
   "metadata": {},
   "outputs": [
    {
     "name": "stdout",
     "output_type": "stream",
     "text": [
      "dict_keys(['train', 'test'])\n",
      "<class 'PIL.PngImagePlugin.PngImageFile'>\n",
      "000000011\n",
      "A young man holding an umbrella next to a herd of cattle.\n"
     ]
    }
   ],
   "source": [
    "print(coco_ds.keys())\n",
    "print(type(coco_ds['train'][0]['image'])) # 图片是.png格式\n",
    "print(coco_ds['train'][10]['key'])\n",
    "print(coco_ds['train'][10]['caption'])"
   ]
  },
  {
   "cell_type": "code",
   "execution_count": 8,
   "id": "8fa96f57",
   "metadata": {},
   "outputs": [
    {
     "name": "stderr",
     "output_type": "stream",
     "text": [
      "Extract data to local: 100%|██████████| 19783/19783 [04:48<00:00, 68.59it/s]"
     ]
    },
    {
     "name": "stdout",
     "output_type": "stream",
     "text": [
      "Successfully save data to small-coco/data_train.json\n",
      "Successfully save data to small-coco/data_test.json\n"
     ]
    },
    {
     "name": "stderr",
     "output_type": "stream",
     "text": [
      "\n"
     ]
    }
   ],
   "source": [
    "# 提取数据集的数据\n",
    "import os\n",
    "from PIL import Image\n",
    "import json\n",
    "from tqdm import tqdm\n",
    "\n",
    "total_item = sum(len(coco_ds[data_key]) for data_key in coco_ds.keys())\n",
    "save_dir = \"small-coco\"\n",
    "\n",
    "with tqdm(total = total_item,desc = \"Extract data to local\") as pbar:\n",
    "    for data_key in coco_ds.keys():\n",
    "        prefix = f\"{data_key}-\"\n",
    "        output_file = f\"{save_dir}/data_{data_key}.json\" # 处理成json格式\n",
    "        os.makedirs(os.path.join(save_dir,data_key),exist_ok = True)\n",
    "        save_json = []\n",
    "        for item in coco_ds[data_key]:\n",
    "            img_name = f\"{prefix}{item['key']}.png\"\n",
    "            img_save_path = os.path.join(save_dir,data_key,img_name)\n",
    "            item['image'].save(img_save_path,format = \"PNG\") # 使用一次后关闭，防止重复存图片\n",
    "            new_json = {\n",
    "                \"id\": item['key'],\n",
    "                \"conversations\": [\n",
    "                  {\n",
    "                    \"from\": \"user\",\n",
    "                    \"value\": f\"<|vision_start|>{img_save_path}<|vision_end|>\"\n",
    "                  },\n",
    "                  {\n",
    "                    \"from\": \"assistant\",\n",
    "                    \"value\": item['caption']\n",
    "                  }\n",
    "                ]\n",
    "            }\n",
    "            save_json.append(new_json)\n",
    "            pbar.update(1)\n",
    "        with open(output_file,\"w\",encoding = 'utf-8') as f:\n",
    "            json.dump(save_json,f,indent = 4,ensure_ascii = False)\n",
    "print(\"Successfully save data to small-coco/data_train.json\")\n",
    "print(\"Successfully save data to small-coco/data_test.json\")"
   ]
  },
  {
   "cell_type": "code",
   "execution_count": 19,
   "id": "388ecc98",
   "metadata": {},
   "outputs": [],
   "source": [
    "import json\n",
    "\n",
    "def cvt_data(file_path):\n",
    "    \"\"\"数据格式转换，便于dataset的构建\"\"\"\n",
    "    loaded_data = None\n",
    "    with open(file_path,\"r\",encoding = 'utf-8') as f:\n",
    "        loaded_data = json.load(f)\n",
    "\n",
    "    # 将loaded_data转换为合适的Dataset的格式\n",
    "    dataset_dicts = []\n",
    "    for item in loaded_data:\n",
    "        user_content = item['conversations'][0]\n",
    "        assistant_content = item['conversations'][1]\n",
    "\n",
    "        # 提取图像信息和文本信息\n",
    "        image_path = user_content['value'].split('<|vision_start|>')[1].split('<|vision_end|>')[0]\n",
    "\n",
    "        # 构建新的字典\n",
    "        dataset_dict = {\n",
    "            \"role\": \"user\",\n",
    "            \"image_path\": image_path,\n",
    "            \"question\": \"Please describle this image.\", # 统一的问题\n",
    "            'assistant_answer': assistant_content['value']\n",
    "        }\n",
    "\n",
    "        dataset_dicts.append(dataset_dict)\n",
    "    return dataset_dicts"
   ]
  },
  {
   "cell_type": "code",
   "execution_count": 20,
   "id": "f3f3d637",
   "metadata": {},
   "outputs": [],
   "source": [
    "train_data_json = \"small-coco/data_train.json\"\n",
    "test_data_json = \"small-coco/data_test.json\"\n",
    "train_dataset_dicts = cvt_data(train_data_json)\n",
    "test_dataset_dicts = cvt_data(test_data_json)"
   ]
  },
  {
   "cell_type": "code",
   "execution_count": 21,
   "id": "cacb2372",
   "metadata": {},
   "outputs": [],
   "source": [
    "from datasets import Dataset\n",
    "train_dataset = Dataset.from_list(train_dataset_dicts)\n",
    "test_dataset = Dataset.from_list(test_dataset_dicts)"
   ]
  },
  {
   "cell_type": "code",
   "execution_count": 22,
   "id": "b796aa87",
   "metadata": {},
   "outputs": [
    {
     "name": "stdout",
     "output_type": "stream",
     "text": [
      "{'role': 'user', 'image_path': 'small-coco/train/train-000000000.png', 'question': 'Please describle this image.', 'assistant_answer': 'A man with a red helmet on a small moped on a dirt road. '}\n",
      "{'role': 'user', 'image_path': 'small-coco/train/train-000000001.png', 'question': 'Please describle this image.', 'assistant_answer': 'Man riding a motor bike on a dirt road on the countryside.'}\n",
      "{'role': 'user', 'image_path': 'small-coco/train/train-000000002.png', 'question': 'Please describle this image.', 'assistant_answer': 'A man riding on the back of a motorcycle.'}\n"
     ]
    }
   ],
   "source": [
    "# 检测数据集是否正确\n",
    "for i in range(3):\n",
    "    print(train_dataset[i])"
   ]
  }
 ],
 "metadata": {
  "kernelspec": {
   "display_name": ".venv",
   "language": "python",
   "name": "python3"
  },
  "language_info": {
   "codemirror_mode": {
    "name": "ipython",
    "version": 3
   },
   "file_extension": ".py",
   "mimetype": "text/x-python",
   "name": "python",
   "nbconvert_exporter": "python",
   "pygments_lexer": "ipython3",
   "version": "3.11.12"
  }
 },
 "nbformat": 4,
 "nbformat_minor": 5
}
